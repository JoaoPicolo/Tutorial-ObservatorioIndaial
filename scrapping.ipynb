{
 "cells": [
  {
   "attachments": {},
   "cell_type": "markdown",
   "metadata": {},
   "source": [
    "# Web Scrapping"
   ]
  },
  {
   "cell_type": "code",
   "execution_count": 1,
   "metadata": {},
   "outputs": [],
   "source": [
    "import time\n",
    "\n",
    "import bs4\n",
    "import requests\n",
    "import pandas as pd"
   ]
  },
  {
   "cell_type": "code",
   "execution_count": 2,
   "metadata": {},
   "outputs": [],
   "source": [
    "# Creates a variable\n",
    "agent = \"Mozilla/5.0 (Windows NT 10.0; Win64; x64) AppleWebKit/537.36 (KHTML, like Gecko) Chrome/113.0.0.0 Safari/537.36\""
   ]
  },
  {
   "cell_type": "code",
   "execution_count": 3,
   "metadata": {},
   "outputs": [],
   "source": [
    "# Sets headers with request agent\n",
    "headers= { \"User-Agent\": agent }"
   ]
  },
  {
   "cell_type": "code",
   "execution_count": 4,
   "metadata": {},
   "outputs": [],
   "source": [
    "def consult(url):\n",
    "    # Try to execute requests\n",
    "    try:\n",
    "        req = requests.get(url, headers = headers, timeout = 1) \n",
    "        return req.content      \n",
    "    except:\n",
    "        pass\n",
    "\n",
    "\n",
    "def capture_html(url):\n",
    "    html = consult(url)\n",
    "    soup = bs4.BeautifulSoup(html, \"html.parser\")\n",
    "    return soup\n",
    "\n",
    "\n",
    "def get_html_header(html):\n",
    "    dt = html.find_all(\"dt\")\n",
    "    dd = html.find_all(\"dd\")\n",
    "    values = {}\n",
    "    for key, val in zip(dt, dd):\n",
    "        values[key.get_text()] = val.get_text()\n",
    "\n",
    "    return values\n",
    "\n",
    "\n",
    "def get_proposition(proposition_id, year):\n",
    "    # Sets the address\n",
    "    url = f\"https://www.legislador.com.br//LegisladorWEB.ASP?WCI=ProposicaoTexto&ID=3&TPProposicao=1&nrProposicao={proposition_id}&aaProposicao={year}\"\n",
    "    html = capture_html(url)\n",
    "    values = get_html_header(html)\n",
    "    values[\"Proposição\"] = proposition_id\n",
    "    values[\"Ano\"] = year\n",
    "    values[\"Texto\"] = html.p.get_text() # Page has a single <p> tag\n",
    "\n",
    "    return values"
   ]
  },
  {
   "attachments": {},
   "cell_type": "markdown",
   "metadata": {},
   "source": [
    "# Connection to the Database"
   ]
  },
  {
   "cell_type": "code",
   "execution_count": 5,
   "metadata": {},
   "outputs": [],
   "source": [
    "import pyodbc"
   ]
  },
  {
   "cell_type": "code",
   "execution_count": 6,
   "metadata": {},
   "outputs": [
    {
     "name": "stdout",
     "output_type": "stream",
     "text": [
      "Finished inserting data\n"
     ]
    }
   ],
   "source": [
    "def sql_select(query):\n",
    "    # Using SSMS with Windows' authentication\n",
    "    conn = pyodbc.connect(\"Trusted_Connection=yes\",\n",
    "                        driver=\"{ODBC Driver 17 for SQL Server}\",\n",
    "                        server=\"localhost\",\n",
    "                        database=\"Indaial\")\n",
    "\n",
    "    res = pd.read_sql_query(query, conn)\n",
    "    return res\n",
    "\n",
    "def sql_truncate(table_name):\n",
    "    conn = pyodbc.connect(\"Trusted_Connection=yes\",\n",
    "                        driver=\"{ODBC Driver 17 for SQL Server}\",\n",
    "                        server=\"localhost\",\n",
    "                        database=\"Indaial\")\n",
    "\n",
    "    cursor = conn.cursor()\n",
    "    cursor.execute(f\"\"\"\n",
    "            TRUNCATE TABLE {table_name}\n",
    "        \"\"\")\n",
    "\n",
    "    conn.commit()\n",
    "    cursor.close()\n",
    "\n",
    "def rename_columns_to_db(dataframe):\n",
    "    renamed = dataframe.rename(columns={\n",
    "                                        \"Proposição\": \"proposition\",\n",
    "                                        \"Ano\": \"year\", \"Texto\": \"text\",\n",
    "                                        \"Reunião\": \"date_meeting\",\n",
    "                                        \"Deliberação\": \"date_deliberation\",\n",
    "                                        \"Situação\": \"situation\", \"Assunto\": \"subject\",\n",
    "                                        \"Autor\": \"author\"\n",
    "                                    })\n",
    "    \n",
    "    return renamed\n",
    "\n",
    "def insert_propositions(dataframe):\n",
    "    dataframe = rename_columns_to_db(dataframe)\n",
    "    conn_df = pd.DataFrame(columns=[\"date_meeting\", \"date_deliberation\", \"situation\", \"subject\", \"author\", \"proposition\", \"year\", \"text\"])\n",
    "    conn_df = conn_df.append(dataframe).fillna(\"\")\n",
    "    conn_df[\"date_meeting\"] = pd.to_datetime(conn_df[\"date_meeting\"], format=\"%d/%m/%Y\")\n",
    "    conn_df[\"date_deliberation\"] = pd.to_datetime(conn_df[\"date_deliberation\"], format=\"%d/%m/%Y\")\n",
    "\n",
    "    conn = pyodbc.connect(\"Trusted_Connection=yes\",\n",
    "                        driver=\"{ODBC Driver 17 for SQL Server}\",\n",
    "                        server=\"localhost\",\n",
    "                        database=\"Indaial\")\n",
    "\n",
    "    cursor = conn.cursor()\n",
    "\n",
    "    for _, row in conn_df.iterrows():\n",
    "        cursor.execute(\"\"\"INSERT INTO Propositions (\n",
    "            date_meeting, date_deliberation, situation, subject, author, proposition, year, text\n",
    "        ) VALUES(?, ?, ?, ?, ?, ?, ?, ?)\"\"\",\n",
    "            row[\"date_meeting\"], row[\"date_deliberation\"], row[\"situation\"], row[\"subject\"], row[\"author\"], row[\"proposition\"], row[\"year\"], row[\"text\"]\n",
    "        )\n",
    "\n",
    "    conn.commit()\n",
    "    cursor.close()\n",
    "\n",
    "def insert_next_proposition(year):\n",
    "    # Gets the last proposition\n",
    "    year_data = sql_select(f\"select proposition = max(proposition) from Propositions where year = {year}\")\n",
    "    last_proposition = year_data[\"proposition\"].loc[0]\n",
    "\n",
    "    # Verifies if a proposition already exists in current year\n",
    "    if last_proposition == None:\n",
    "        next_proposition = 1\n",
    "    else:\n",
    "        next_proposition = int(last_proposition) + 1 \n",
    "\n",
    "    # Captures and inserts on table\n",
    "    data = get_proposition(next_proposition, year)\n",
    "    table = pd.DataFrame([data])\n",
    "    insert_propositions(table)\n",
    "\n",
    "\n",
    "def insert_year(year, max_error = 20, wait_secs = 0.5):\n",
    "    errors_count = 0\n",
    "\n",
    "    # When no proposition is found, error will start increasing\n",
    "    while errors_count < max_error:\n",
    "        try:\n",
    "            insert_next_proposition(year)\n",
    "        except:\n",
    "            errors_count += 1\n",
    "            pass\n",
    "\n",
    "        time.sleep(wait_secs)\n",
    "\n",
    "\n",
    "def insert_db(start_year, end_year):\n",
    "    for i in range(start_year, end_year+1):\n",
    "        print(f\"Inserting data from {i}\")\n",
    "        try:\n",
    "            insert_year(i)\n",
    "        except:\n",
    "            pass"
   ]
  },
  {
   "cell_type": "code",
   "execution_count": 36,
   "metadata": {},
   "outputs": [
    {
     "name": "stdout",
     "output_type": "stream",
     "text": [
      "Inserting data from 2023\n"
     ]
    }
   ],
   "source": [
    "#sql_truncate(\"Propositions\")\n",
    "insert_db(1996, 2023)"
   ]
  }
 ],
 "metadata": {
  "kernelspec": {
   "display_name": "Python 3",
   "language": "python",
   "name": "python3"
  },
  "language_info": {
   "codemirror_mode": {
    "name": "ipython",
    "version": 3
   },
   "file_extension": ".py",
   "mimetype": "text/x-python",
   "name": "python",
   "nbconvert_exporter": "python",
   "pygments_lexer": "ipython3",
   "version": "3.6.6"
  },
  "orig_nbformat": 4
 },
 "nbformat": 4,
 "nbformat_minor": 2
}
